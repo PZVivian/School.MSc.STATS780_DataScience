{
 "cells": [
  {
   "cell_type": "raw",
   "id": "266d275a-eb87-4131-91f2-d6f213c730e3",
   "metadata": {},
   "source": [
    "---\n",
    "title: Single layer neural network - Pytorch\n",
    "author: \"Pratheepa Jeganathan\"\n",
    "date: \"2023/11/21\"\n",
    "format: html\n",
    "editor: visual\n",
    "execute: \n",
    "  echo: true\n",
    "  message: false\n",
    "  warning: false\n",
    "bibliography: references.bib\n",
    "---"
   ]
  },
  {
   "cell_type": "code",
   "execution_count": 1,
   "id": "3006a7f9",
   "metadata": {},
   "outputs": [],
   "source": [
    "import numpy as np\n",
    "import pandas as pd\n",
    "import torch\n",
    "import matplotlib.pyplot as plt\n",
    "import torch.nn as nn\n",
    "\n",
    "from sklearn.model_selection import train_test_split"
   ]
  },
  {
   "cell_type": "markdown",
   "id": "8b24d6a8",
   "metadata": {},
   "source": [
    " torch.nn - provides block to build a neural network."
   ]
  },
  {
   "cell_type": "markdown",
   "id": "ec4863ad",
   "metadata": {},
   "source": [
    "## Single Layer Network on Hitters Data"
   ]
  },
  {
   "cell_type": "code",
   "execution_count": 2,
   "id": "0542ad85",
   "metadata": {},
   "outputs": [
    {
     "data": {
      "text/html": [
       "<div>\n",
       "<style scoped>\n",
       "    .dataframe tbody tr th:only-of-type {\n",
       "        vertical-align: middle;\n",
       "    }\n",
       "\n",
       "    .dataframe tbody tr th {\n",
       "        vertical-align: top;\n",
       "    }\n",
       "\n",
       "    .dataframe thead th {\n",
       "        text-align: right;\n",
       "    }\n",
       "</style>\n",
       "<table border=\"1\" class=\"dataframe\">\n",
       "  <thead>\n",
       "    <tr style=\"text-align: right;\">\n",
       "      <th></th>\n",
       "      <th>AtBat</th>\n",
       "      <th>Hits</th>\n",
       "      <th>HmRun</th>\n",
       "      <th>Runs</th>\n",
       "      <th>RBI</th>\n",
       "      <th>Walks</th>\n",
       "      <th>Years</th>\n",
       "      <th>CAtBat</th>\n",
       "      <th>CHits</th>\n",
       "      <th>CHmRun</th>\n",
       "      <th>CRuns</th>\n",
       "      <th>CRBI</th>\n",
       "      <th>CWalks</th>\n",
       "      <th>League</th>\n",
       "      <th>Division</th>\n",
       "      <th>PutOuts</th>\n",
       "      <th>Assists</th>\n",
       "      <th>Errors</th>\n",
       "      <th>Salary</th>\n",
       "      <th>NewLeague</th>\n",
       "    </tr>\n",
       "  </thead>\n",
       "  <tbody>\n",
       "    <tr>\n",
       "      <th>0</th>\n",
       "      <td>293</td>\n",
       "      <td>66</td>\n",
       "      <td>1</td>\n",
       "      <td>30</td>\n",
       "      <td>29</td>\n",
       "      <td>14</td>\n",
       "      <td>1</td>\n",
       "      <td>293</td>\n",
       "      <td>66</td>\n",
       "      <td>1</td>\n",
       "      <td>30</td>\n",
       "      <td>29</td>\n",
       "      <td>14</td>\n",
       "      <td>A</td>\n",
       "      <td>E</td>\n",
       "      <td>446</td>\n",
       "      <td>33</td>\n",
       "      <td>20</td>\n",
       "      <td>NaN</td>\n",
       "      <td>A</td>\n",
       "    </tr>\n",
       "    <tr>\n",
       "      <th>1</th>\n",
       "      <td>315</td>\n",
       "      <td>81</td>\n",
       "      <td>7</td>\n",
       "      <td>24</td>\n",
       "      <td>38</td>\n",
       "      <td>39</td>\n",
       "      <td>14</td>\n",
       "      <td>3449</td>\n",
       "      <td>835</td>\n",
       "      <td>69</td>\n",
       "      <td>321</td>\n",
       "      <td>414</td>\n",
       "      <td>375</td>\n",
       "      <td>N</td>\n",
       "      <td>W</td>\n",
       "      <td>632</td>\n",
       "      <td>43</td>\n",
       "      <td>10</td>\n",
       "      <td>475.0</td>\n",
       "      <td>N</td>\n",
       "    </tr>\n",
       "    <tr>\n",
       "      <th>2</th>\n",
       "      <td>479</td>\n",
       "      <td>130</td>\n",
       "      <td>18</td>\n",
       "      <td>66</td>\n",
       "      <td>72</td>\n",
       "      <td>76</td>\n",
       "      <td>3</td>\n",
       "      <td>1624</td>\n",
       "      <td>457</td>\n",
       "      <td>63</td>\n",
       "      <td>224</td>\n",
       "      <td>266</td>\n",
       "      <td>263</td>\n",
       "      <td>A</td>\n",
       "      <td>W</td>\n",
       "      <td>880</td>\n",
       "      <td>82</td>\n",
       "      <td>14</td>\n",
       "      <td>480.0</td>\n",
       "      <td>A</td>\n",
       "    </tr>\n",
       "    <tr>\n",
       "      <th>3</th>\n",
       "      <td>496</td>\n",
       "      <td>141</td>\n",
       "      <td>20</td>\n",
       "      <td>65</td>\n",
       "      <td>78</td>\n",
       "      <td>37</td>\n",
       "      <td>11</td>\n",
       "      <td>5628</td>\n",
       "      <td>1575</td>\n",
       "      <td>225</td>\n",
       "      <td>828</td>\n",
       "      <td>838</td>\n",
       "      <td>354</td>\n",
       "      <td>N</td>\n",
       "      <td>E</td>\n",
       "      <td>200</td>\n",
       "      <td>11</td>\n",
       "      <td>3</td>\n",
       "      <td>500.0</td>\n",
       "      <td>N</td>\n",
       "    </tr>\n",
       "    <tr>\n",
       "      <th>4</th>\n",
       "      <td>321</td>\n",
       "      <td>87</td>\n",
       "      <td>10</td>\n",
       "      <td>39</td>\n",
       "      <td>42</td>\n",
       "      <td>30</td>\n",
       "      <td>2</td>\n",
       "      <td>396</td>\n",
       "      <td>101</td>\n",
       "      <td>12</td>\n",
       "      <td>48</td>\n",
       "      <td>46</td>\n",
       "      <td>33</td>\n",
       "      <td>N</td>\n",
       "      <td>E</td>\n",
       "      <td>805</td>\n",
       "      <td>40</td>\n",
       "      <td>4</td>\n",
       "      <td>91.5</td>\n",
       "      <td>N</td>\n",
       "    </tr>\n",
       "  </tbody>\n",
       "</table>\n",
       "</div>"
      ],
      "text/plain": [
       "   AtBat  Hits  HmRun  Runs  RBI  Walks  Years  CAtBat  CHits  CHmRun  CRuns  \\\n",
       "0    293    66      1    30   29     14      1     293     66       1     30   \n",
       "1    315    81      7    24   38     39     14    3449    835      69    321   \n",
       "2    479   130     18    66   72     76      3    1624    457      63    224   \n",
       "3    496   141     20    65   78     37     11    5628   1575     225    828   \n",
       "4    321    87     10    39   42     30      2     396    101      12     48   \n",
       "\n",
       "   CRBI  CWalks League Division  PutOuts  Assists  Errors  Salary NewLeague  \n",
       "0    29      14      A        E      446       33      20     NaN         A  \n",
       "1   414     375      N        W      632       43      10   475.0         N  \n",
       "2   266     263      A        W      880       82      14   480.0         A  \n",
       "3   838     354      N        E      200       11       3   500.0         N  \n",
       "4    46      33      N        E      805       40       4    91.5         N  "
      ]
     },
     "execution_count": 2,
     "metadata": {},
     "output_type": "execute_result"
    }
   ],
   "source": [
    "url_Hitters = 'https://raw.githubusercontent.com/PratheepaJ/datasets/master/Hitters.csv'\n",
    "Hitters = pd.read_csv(url_Hitters)\n",
    "Hitters.head()"
   ]
  },
  {
   "cell_type": "markdown",
   "id": "e8a4acb2",
   "metadata": {},
   "source": [
    "* Goal: Predict salary based on CRuns."
   ]
  },
  {
   "cell_type": "code",
   "execution_count": 10,
   "id": "fdba0acc",
   "metadata": {},
   "outputs": [
    {
     "data": {
      "text/plain": [
       "(322, 1)"
      ]
     },
     "execution_count": 10,
     "metadata": {},
     "output_type": "execute_result"
    }
   ],
   "source": [
    "X = Hitters[['CRuns']].values\n",
    "X.shape"
   ]
  },
  {
   "cell_type": "markdown",
   "id": "19e92b98-36ed-44d0-979a-c3ad788b1f22",
   "metadata": {},
   "source": [
    "* Convert X to a torch object."
   ]
  },
  {
   "cell_type": "code",
   "execution_count": 11,
   "id": "adbadba5",
   "metadata": {},
   "outputs": [
    {
     "data": {
      "text/plain": [
       "torch.Size([322, 1])"
      ]
     },
     "execution_count": 11,
     "metadata": {},
     "output_type": "execute_result"
    }
   ],
   "source": [
    "X = torch.from_numpy(X).view(-1, 1).type(torch.FloatTensor)\n",
    "type(X)\n",
    "X.size()"
   ]
  },
  {
   "cell_type": "code",
   "execution_count": 12,
   "id": "a57a0d07",
   "metadata": {},
   "outputs": [],
   "source": [
    "Y = Hitters['Salary'].values\n"
   ]
  },
  {
   "cell_type": "markdown",
   "id": "0adda6e2-80f6-4bc6-a9ed-9b195bba15eb",
   "metadata": {},
   "source": [
    "* Convert Y to a torch object."
   ]
  },
  {
   "cell_type": "code",
   "execution_count": 13,
   "id": "a02159dd",
   "metadata": {},
   "outputs": [
    {
     "data": {
      "text/plain": [
       "torch.Size([322])"
      ]
     },
     "execution_count": 13,
     "metadata": {},
     "output_type": "execute_result"
    }
   ],
   "source": [
    "Y = torch.from_numpy(Y)\n",
    "Y.size()"
   ]
  },
  {
   "cell_type": "markdown",
   "id": "44293966",
   "metadata": {},
   "source": [
    "* Split into training, validation, and test set."
   ]
  },
  {
   "cell_type": "code",
   "execution_count": 14,
   "id": "0e2285ac",
   "metadata": {},
   "outputs": [],
   "source": [
    "X_train, X_valid, y_train, y_valid = train_test_split(\n",
    "    X, Y, test_size=0.3, random_state=123)"
   ]
  },
  {
   "cell_type": "code",
   "execution_count": 15,
   "id": "4976e60b",
   "metadata": {},
   "outputs": [
    {
     "data": {
      "text/plain": [
       "torch.Tensor"
      ]
     },
     "execution_count": 15,
     "metadata": {},
     "output_type": "execute_result"
    }
   ],
   "source": [
    "type(X_train)"
   ]
  },
  {
   "cell_type": "markdown",
   "id": "5ea6e7f2-9f8d-4616-a14d-0c50d9050b6d",
   "metadata": {},
   "source": [
    "* Define the class for single layer NN"
   ]
  },
  {
   "cell_type": "code",
   "execution_count": 9,
   "id": "c5b7caa4",
   "metadata": {},
   "outputs": [],
   "source": [
    "\n",
    "class one_layer_net(torch.nn.Module):    \n",
    "    # Constructor\n",
    "    def __init__(self, input_size, hidden_neurons, output_size):\n",
    "        super(one_layer_net, self).__init__()\n",
    "        # hidden layer \n",
    "        self.linear_one = torch.nn.Linear(input_size, hidden_neurons)\n",
    "        self.linear_two = torch.nn.Linear(hidden_neurons, output_size) \n",
    "        # defining layers as attributes\n",
    "        self.layer_in = None\n",
    "        self.act = None\n",
    "        self.layer_out = None\n",
    "    # prediction function\n",
    "    def forward(self, x):\n",
    "        self.layer_in = self.linear_one(x)\n",
    "        self.act = torch.relu(self.layer_in)\n",
    "        self.layer_out = self.linear_two(self.act)\n",
    "        y_pred = self.layer_out\n",
    "        return y_pred"
   ]
  },
  {
   "cell_type": "markdown",
   "id": "a70c1045-02a8-45b2-b726-02ee5cc6fc1e",
   "metadata": {},
   "source": [
    "* create the model \n",
    "    * 1 represents the input size (batch size 1); \n",
    "    * 2 represents two neurons in one hidden layer; \n",
    "    * 1 output size"
   ]
  },
  {
   "cell_type": "code",
   "execution_count": 17,
   "id": "e9220085",
   "metadata": {},
   "outputs": [],
   "source": [
    "model = one_layer_net(1, 2, 1)  "
   ]
  },
  {
   "cell_type": "markdown",
   "id": "9006ae7e-1a34-420a-a37f-701909014b51",
   "metadata": {},
   "source": [
    "* Define the loss function."
   ]
  },
  {
   "cell_type": "code",
   "execution_count": 18,
   "id": "fca4ba37",
   "metadata": {},
   "outputs": [],
   "source": [
    "def criterion(y_pred, y):\n",
    "    out =  torch.mean((y_pred - y)*(y_pred - y))\n",
    "    return out\n",
    "\n",
    "optimizer = torch.optim.SGD(model.parameters(), lr=0.01)"
   ]
  },
  {
   "cell_type": "code",
   "execution_count": 19,
   "id": "9d735dca",
   "metadata": {},
   "outputs": [
    {
     "name": "stdout",
     "output_type": "stream",
     "text": [
      "100 epochs done!\n",
      "200 epochs done!\n",
      "300 epochs done!\n",
      "400 epochs done!\n",
      "500 epochs done!\n"
     ]
    }
   ],
   "source": [
    "# Define the training loop\n",
    "epochs=500\n",
    "cost = []\n",
    "total=0\n",
    "for epoch in range(epochs):\n",
    "    total=0\n",
    "    epoch = epoch + 1\n",
    "    for x, y in zip(X_train, y_train):\n",
    "        yhat = model(x)\n",
    "        loss = criterion(yhat, y)\n",
    "        loss.backward()\n",
    "        optimizer.step()\n",
    "        optimizer.zero_grad()\n",
    "        # get total loss \n",
    "        total+=loss.item() \n",
    "    cost.append(total)\n",
    "    if epoch % 100 == 0:\n",
    "        print(str(epoch)+ \" \" + \"epochs done!\") # visualze results after every 100 epochs   \n",
    "        \n",
    " \n"
   ]
  },
  {
   "cell_type": "markdown",
   "id": "d2dc9c79-677e-4fd2-a54b-050ae4fa67c2",
   "metadata": {},
   "source": [
    "* Prediction."
   ]
  },
  {
   "cell_type": "code",
   "execution_count": 22,
   "id": "1aed2949",
   "metadata": {},
   "outputs": [],
   "source": [
    "\n",
    "y_pred = model(X_valid)\n"
   ]
  },
  {
   "cell_type": "markdown",
   "id": "b9d5380d",
   "metadata": {},
   "source": [
    "## Classification single layer NN\n",
    "\n",
    "[Example](https://machinelearningmastery.com/building-a-single-layer-neural-network-in-pytorch/)"
   ]
  },
  {
   "cell_type": "code",
   "execution_count": 28,
   "id": "764d3a06-4273-4051-a893-5edebd1ae784",
   "metadata": {},
   "outputs": [],
   "source": [
    "# Create some dummy data\n",
    "X = np.random.rand(10, 5)  # 10 examples, 5 input features\n",
    "y = np.random.rand(10, 1)  # 10 examples, 1 output feature\n",
    "\n",
    "# Convert the data to PyTorch tensors\n",
    "X = torch.tensor(X, dtype=torch.float)\n",
    "y = torch.tensor(y, dtype=torch.float)\n",
    "\n"
   ]
  },
  {
   "cell_type": "code",
   "execution_count": 29,
   "id": "cbd85835",
   "metadata": {},
   "outputs": [],
   "source": [
    "import torch\n",
    "import torch.nn as nn\n",
    "import numpy as np\n",
    "\n"
   ]
  },
  {
   "cell_type": "code",
   "execution_count": 30,
   "id": "56d1c160",
   "metadata": {},
   "outputs": [],
   "source": [
    "# Define the neural network class\n",
    "class Net(nn.Module):\n",
    "    def __init__(self):\n",
    "        super(Net, self).__init__()\n",
    "        self.fc = nn.Linear(5, 1)  # Single fully connected layer with 5 input features and 1 output feature\n",
    "\n",
    "    def forward(self, x):\n",
    "        x = self.fc(x)\n",
    "        return x\n",
    "\n"
   ]
  },
  {
   "cell_type": "code",
   "execution_count": 31,
   "id": "d535400b",
   "metadata": {},
   "outputs": [],
   "source": [
    "# Create an instance of the neural network\n",
    "net = Net()\n",
    "\n"
   ]
  },
  {
   "cell_type": "code",
   "execution_count": 32,
   "id": "8ee22ac2",
   "metadata": {},
   "outputs": [],
   "source": [
    "# Define the loss function\n",
    "criterion = nn.MSELoss()\n",
    "\n",
    "# Define the optimizer\n",
    "optimizer = torch.optim.SGD(net.parameters(), lr=0.01)\n",
    "\n"
   ]
  },
  {
   "cell_type": "code",
   "execution_count": 33,
   "id": "2ff2bfc8",
   "metadata": {},
   "outputs": [
    {
     "name": "stdout",
     "output_type": "stream",
     "text": [
      "Epoch [10/100], Loss: 0.1885\n",
      "Epoch [20/100], Loss: 0.1737\n",
      "Epoch [30/100], Loss: 0.1636\n",
      "Epoch [40/100], Loss: 0.1557\n",
      "Epoch [50/100], Loss: 0.1489\n",
      "Epoch [60/100], Loss: 0.1428\n",
      "Epoch [70/100], Loss: 0.1372\n",
      "Epoch [80/100], Loss: 0.1320\n",
      "Epoch [90/100], Loss: 0.1270\n",
      "Epoch [100/100], Loss: 0.1224\n"
     ]
    }
   ],
   "source": [
    "# Train the neural network\n",
    "for epoch in range(100):\n",
    "    # Forward pass\n",
    "    output = net(X)\n",
    "    loss = criterion(output, y)\n",
    "\n",
    "    # Backward pass\n",
    "    optimizer.zero_grad()\n",
    "    loss.backward()\n",
    "    optimizer.step()\n",
    "\n",
    "    # Print progress\n",
    "    if (epoch+1) % 10 == 0:\n",
    "        print(f\"Epoch [{epoch+1}/100], Loss: {loss.item():.4f}\")\n",
    "\n"
   ]
  },
  {
   "cell_type": "code",
   "execution_count": 34,
   "id": "21598d32",
   "metadata": {},
   "outputs": [
    {
     "name": "stdout",
     "output_type": "stream",
     "text": [
      "Prediction: 0.7472\n"
     ]
    }
   ],
   "source": [
    "# Make a prediction\n",
    "x_test = torch.tensor(np.random.rand(1, 5), dtype=torch.float)\n",
    "y_pred = net(x_test)\n",
    "print(f\"Prediction: {y_pred.item():.4f}\")\n"
   ]
  },
  {
   "cell_type": "markdown",
   "id": "581c4128",
   "metadata": {},
   "source": [
    "In this example, we first define a class Net that inherits from the nn.Module class in PyTorch. We define a single fully connected layer with 5 input features and 1 output feature.\n",
    "\n",
    "We then define the loss function (nn.MSELoss()) and the optimizer (torch.optim.SGD()) with a learning rate of 0.01.\n",
    "\n",
    "We create some dummy data consisting of 10 examples, each with 5 input features and 1 output feature. We convert the data to PyTorch tensors.\n",
    "\n",
    "We train the neural network using a loop that runs for 100 epochs. For each epoch, we perform a forward pass to get the output of the neural network, calculate the loss using the mean squared error loss function, perform a backward pass to calculate the gradients, and update the weights of the neural network using the optimizer.\n",
    "\n",
    "Finally, we make a prediction on a new example (consisting of 5 input features) using the net() method of our Net class, and print the output.\n",
    "\n",
    "\n",
    "\n",
    "\n"
   ]
  },
  {
   "cell_type": "code",
   "execution_count": null,
   "id": "ab5d7d16",
   "metadata": {},
   "outputs": [],
   "source": []
  }
 ],
 "metadata": {
  "kernelspec": {
   "display_name": "Python 3 (ipykernel)",
   "language": "python",
   "name": "python3"
  },
  "language_info": {
   "codemirror_mode": {
    "name": "ipython",
    "version": 3
   },
   "file_extension": ".py",
   "mimetype": "text/x-python",
   "name": "python",
   "nbconvert_exporter": "python",
   "pygments_lexer": "ipython3",
   "version": "3.11.4"
  }
 },
 "nbformat": 4,
 "nbformat_minor": 5
}
